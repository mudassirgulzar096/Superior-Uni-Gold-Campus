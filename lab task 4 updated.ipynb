{
 "cells": [
  {
   "cell_type": "code",
   "execution_count": 3,
   "metadata": {},
   "outputs": [
    {
     "name": "stdout",
     "output_type": "stream",
     "text": [
      "1\n",
      "updated [4, 7, 8, 2, 8, 7, 0, 0, 0, 1, 6, 6, 4, 0]\n",
      "Reversed [0, 4, 6, 6, 1, 0, 0, 0, 7, 8, 2, 8, 7, 4]\n"
     ]
    }
   ],
   "source": [
    "code = [4,7,8,2,8,7,0,0,0,1,6,6,4,0,1]\n",
    "f_step = code.pop()\n",
    "print(f_step)\n",
    "print(\"updated\",code)\n",
    "code.reverse()\n",
    "s_step = code\n",
    "print(\"Reversed\",s_step)\n",
    "for i in range (len(code)):\n",
    "    if 1%2 == 0 :\n",
    "        print(i,s_step[i]*2)\n",
    "        s_step[i] \n",
    "    \n"
   ]
  }
 ],
 "metadata": {
  "kernelspec": {
   "display_name": "Python 3",
   "language": "python",
   "name": "python3"
  },
  "language_info": {
   "codemirror_mode": {
    "name": "ipython",
    "version": 3
   },
   "file_extension": ".py",
   "mimetype": "text/x-python",
   "name": "python",
   "nbconvert_exporter": "python",
   "pygments_lexer": "ipython3",
   "version": "3.12.6"
  }
 },
 "nbformat": 4,
 "nbformat_minor": 2
}
